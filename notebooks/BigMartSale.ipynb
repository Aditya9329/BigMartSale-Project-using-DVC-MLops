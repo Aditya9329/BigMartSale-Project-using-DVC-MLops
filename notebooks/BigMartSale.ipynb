{
 "cells": [
  {
   "cell_type": "code",
   "execution_count": null,
   "id": "efdc3539-b63a-4d76-b39d-e4ac8bc1cec9",
   "metadata": {},
   "outputs": [],
   "source": [
    "import pandas as pd"
   ]
  },
  {
   "cell_type": "code",
   "execution_count": null,
   "id": "34f5c5ca-5868-460b-8214-1a993716fe36",
   "metadata": {},
   "outputs": [],
   "source": [
    "import numpy as np"
   ]
  },
  {
   "cell_type": "code",
   "execution_count": null,
   "id": "466191bf-7649-49af-833f-64ac17f39e45",
   "metadata": {},
   "outputs": [],
   "source": [
    "df = pd.read_csv(\"../data_given/bigmartdata.csv\",sep=\",\")\n",
    "df.head(5)"
   ]
  },
  {
   "cell_type": "code",
   "execution_count": null,
   "id": "8fb5f88e-8502-4d95-961d-eb76d6436195",
   "metadata": {},
   "outputs": [],
   "source": [
    "df['Item_Identifier'].unique()"
   ]
  },
  {
   "cell_type": "code",
   "execution_count": null,
   "id": "9eb1b8bd-40e5-46d2-8979-dcbb96fde8c9",
   "metadata": {},
   "outputs": [],
   "source": [
    "df.columns"
   ]
  },
  {
   "cell_type": "code",
   "execution_count": null,
   "id": "2cb90f34-e30e-48b0-89f8-e0a7bb15a75f",
   "metadata": {},
   "outputs": [],
   "source": [
    "df.describe().T"
   ]
  },
  {
   "cell_type": "code",
   "execution_count": null,
   "id": "7b513fd4-e13c-4bd1-ac81-86af382f96b5",
   "metadata": {},
   "outputs": [],
   "source": [
    "df.info()"
   ]
  },
  {
   "cell_type": "code",
   "execution_count": null,
   "id": "f06a97a8-f276-49a5-bba1-9d255c27da59",
   "metadata": {},
   "outputs": [],
   "source": [
    "df.shape"
   ]
  },
  {
   "cell_type": "code",
   "execution_count": null,
   "id": "837d94bf-f20a-4999-9433-c150f0bb47a7",
   "metadata": {},
   "outputs": [],
   "source": [
    "df.isnull().mean()*100"
   ]
  },
  {
   "cell_type": "markdown",
   "id": "356250bd-79fa-4aa2-bf18-e4f4162fcbad",
   "metadata": {},
   "source": [
    "### -###############################################################################"
   ]
  },
  {
   "cell_type": "code",
   "execution_count": null,
   "id": "1d47b1c6-00a8-4f38-b848-c2e37f46664b",
   "metadata": {},
   "outputs": [],
   "source": [
    "df['Item_Fat_Content'].value_counts()"
   ]
  },
  {
   "cell_type": "code",
   "execution_count": null,
   "id": "93cd133b-e759-4423-9c0b-39ba67200db7",
   "metadata": {},
   "outputs": [],
   "source": [
    "df['Item_Fat_Content'].replace('LF','Low Fat',inplace=True)\n",
    "df['Item_Fat_Content'].replace('low fat','Low Fat',inplace=True)"
   ]
  },
  {
   "cell_type": "code",
   "execution_count": null,
   "id": "57da97c0-58c8-4387-9c17-7b434d7e63e8",
   "metadata": {},
   "outputs": [],
   "source": [
    "df['Item_Fat_Content'].unique()"
   ]
  },
  {
   "cell_type": "code",
   "execution_count": null,
   "id": "df123f61-6204-44f1-9618-17dd87a8cf61",
   "metadata": {},
   "outputs": [],
   "source": [
    "df['Item_Fat_Content'].value_counts()"
   ]
  },
  {
   "cell_type": "markdown",
   "id": "24de1fe2-85c0-48f7-879a-04ff0941e7df",
   "metadata": {},
   "source": [
    "### -##################################################################################"
   ]
  },
  {
   "cell_type": "code",
   "execution_count": null,
   "id": "a7537fda-fc92-4742-b446-aeee82f85277",
   "metadata": {},
   "outputs": [],
   "source": [
    "df['Item_Type'].unique()"
   ]
  },
  {
   "cell_type": "code",
   "execution_count": null,
   "id": "691a109c-0b84-4590-bdfb-d2c5486319b5",
   "metadata": {},
   "outputs": [],
   "source": [
    "df['Outlet_Size'].unique()"
   ]
  },
  {
   "cell_type": "code",
   "execution_count": null,
   "id": "ecbed4e4-0086-46ab-9fcc-d6bf723baeb1",
   "metadata": {},
   "outputs": [],
   "source": [
    "df['Outlet_Size'].mode()"
   ]
  },
  {
   "cell_type": "code",
   "execution_count": null,
   "id": "996a81f7-631d-429f-8182-9960045f0149",
   "metadata": {},
   "outputs": [],
   "source": [
    "df['Outlet_Size'].replace(np.nan,'Medium',inplace=True)"
   ]
  },
  {
   "cell_type": "code",
   "execution_count": null,
   "id": "47c9f482-43e8-456a-9e82-bf216255a95b",
   "metadata": {},
   "outputs": [],
   "source": [
    "df['Outlet_Size'].value_counts()"
   ]
  },
  {
   "cell_type": "code",
   "execution_count": null,
   "id": "de66c72c-907b-4b4f-adb9-5e59f75985b6",
   "metadata": {},
   "outputs": [],
   "source": [
    "df.isnull().mean()*100"
   ]
  },
  {
   "cell_type": "markdown",
   "id": "175c4452-6be3-4078-8ced-b5dd05c49800",
   "metadata": {},
   "source": [
    "### -#########################################################################"
   ]
  },
  {
   "cell_type": "code",
   "execution_count": null,
   "id": "93306e09-1fda-41ed-8b8a-9419dcb524f0",
   "metadata": {},
   "outputs": [],
   "source": [
    "df['Item_Weight'].replace(np.nan,df['Item_Weight'].mean(),inplace=True)"
   ]
  },
  {
   "cell_type": "code",
   "execution_count": null,
   "id": "c3e89ff8-2aa3-40dc-9709-f303566aa918",
   "metadata": {},
   "outputs": [],
   "source": [
    "df.isnull().mean()*100"
   ]
  },
  {
   "cell_type": "code",
   "execution_count": null,
   "id": "774372b0-c3f4-44a7-9bd2-2e2e10374cbf",
   "metadata": {},
   "outputs": [],
   "source": [
    "df.duplicated().sum()##No duplicate data"
   ]
  },
  {
   "cell_type": "code",
   "execution_count": null,
   "id": "91d678f7-9027-454f-8836-fca594de8713",
   "metadata": {},
   "outputs": [],
   "source": [
    "df.head()"
   ]
  },
  {
   "cell_type": "code",
   "execution_count": null,
   "id": "6c7b2b00-9be4-47c0-942b-f9f5458b93a2",
   "metadata": {},
   "outputs": [],
   "source": [
    "len(df['Item_Identifier'].unique())"
   ]
  },
  {
   "cell_type": "code",
   "execution_count": null,
   "id": "8202a31c-c91d-44ab-9522-6713e32ea489",
   "metadata": {},
   "outputs": [],
   "source": [
    "df['Outlet_Identifier'].unique()"
   ]
  },
  {
   "cell_type": "code",
   "execution_count": null,
   "id": "1d27949b-c21b-47c9-8266-12cf79465490",
   "metadata": {},
   "outputs": [],
   "source": [
    "len(df['Outlet_Identifier'].unique())"
   ]
  },
  {
   "cell_type": "code",
   "execution_count": null,
   "id": "884f6660-ca94-412b-ac71-0d5afd995370",
   "metadata": {},
   "outputs": [],
   "source": []
  },
  {
   "cell_type": "code",
   "execution_count": null,
   "id": "6b8076c5-3487-40b8-9295-147fbed7290a",
   "metadata": {},
   "outputs": [],
   "source": [
    "df.head()"
   ]
  },
  {
   "cell_type": "code",
   "execution_count": null,
   "id": "76820c05-ffd7-4a91-a815-af61e9cac1f1",
   "metadata": {},
   "outputs": [],
   "source": [
    "df['Item_Type'].unique()"
   ]
  },
  {
   "cell_type": "code",
   "execution_count": null,
   "id": "4701b1fd-aa32-4455-8151-941834d7397d",
   "metadata": {},
   "outputs": [],
   "source": [
    "len(df['Item_Type'].unique())"
   ]
  },
  {
   "cell_type": "markdown",
   "id": "54a51ccf-1708-47eb-a5e6-c895196f1561",
   "metadata": {},
   "source": [
    "### Feature-Engineering"
   ]
  },
  {
   "cell_type": "code",
   "execution_count": null,
   "id": "ac7c0020-efed-4c62-acc8-35a11166abcc",
   "metadata": {},
   "outputs": [],
   "source": [
    "df.pivot_table(values='Item_Outlet_Sales',index='Outlet_Type')"
   ]
  },
  {
   "cell_type": "code",
   "execution_count": null,
   "id": "928b230c-aaeb-4f09-bb52-d9ab21875a8d",
   "metadata": {},
   "outputs": [],
   "source": [
    "df"
   ]
  },
  {
   "cell_type": "code",
   "execution_count": null,
   "id": "6098456e-172e-472c-800b-66c3f4c5a154",
   "metadata": {},
   "outputs": [],
   "source": [
    "df['Item_Visibility'].replace(0,df['Item_Visibility'].mean(),inplace=True)\n"
   ]
  },
  {
   "cell_type": "code",
   "execution_count": null,
   "id": "94576748-46b4-45ef-bce6-5f2aee54d2f0",
   "metadata": {},
   "outputs": [],
   "source": []
  },
  {
   "cell_type": "code",
   "execution_count": null,
   "id": "77845f3f-cd16-45b0-9e08-a81eaa3417ff",
   "metadata": {},
   "outputs": [],
   "source": [
    "# import matplotlib.pyplot as plt\n",
    "# import seaborn as sns"
   ]
  },
  {
   "cell_type": "code",
   "execution_count": null,
   "id": "113c08e0-2acd-4ee8-9e2a-b00e3ed0f795",
   "metadata": {},
   "outputs": [],
   "source": [
    "# sns.boxplot(data=df, x=\"Item_Visibility\", y=\"Item_Outlet_Sales\")\n"
   ]
  },
  {
   "cell_type": "code",
   "execution_count": null,
   "id": "4640b7a2-31d6-41f1-8cca-33f79d20512d",
   "metadata": {},
   "outputs": [],
   "source": []
  },
  {
   "cell_type": "code",
   "execution_count": null,
   "id": "38bb9d23-9e61-47d0-b6ed-965a00141b4a",
   "metadata": {},
   "outputs": [],
   "source": []
  },
  {
   "cell_type": "code",
   "execution_count": null,
   "id": "5e84da8c-dcfc-48d5-88e4-f6af52aa5461",
   "metadata": {},
   "outputs": [],
   "source": []
  },
  {
   "cell_type": "code",
   "execution_count": null,
   "id": "6e769327-d5be-46d3-a5f6-7ad5462c1be0",
   "metadata": {},
   "outputs": [],
   "source": []
  },
  {
   "cell_type": "code",
   "execution_count": null,
   "id": "977fc16d-9a65-4554-a2ce-6fbd452a75c2",
   "metadata": {},
   "outputs": [],
   "source": []
  },
  {
   "cell_type": "code",
   "execution_count": null,
   "id": "5c25b180-8260-43b5-a97f-53e18a078d25",
   "metadata": {},
   "outputs": [],
   "source": []
  },
  {
   "cell_type": "code",
   "execution_count": null,
   "id": "1e77038d-9b48-4f30-94c3-33a7d025131f",
   "metadata": {},
   "outputs": [],
   "source": []
  },
  {
   "cell_type": "code",
   "execution_count": null,
   "id": "3d521bc4-e0fc-4ffd-be98-2fe42f3b126b",
   "metadata": {},
   "outputs": [],
   "source": []
  },
  {
   "cell_type": "code",
   "execution_count": null,
   "id": "63cdc229-16b2-4e32-ba77-36bae7407c43",
   "metadata": {},
   "outputs": [],
   "source": []
  },
  {
   "cell_type": "code",
   "execution_count": null,
   "id": "bcbd00e2-90ef-41b7-82c2-6d1d5dbe12e7",
   "metadata": {},
   "outputs": [],
   "source": []
  },
  {
   "cell_type": "code",
   "execution_count": null,
   "id": "ff19dc68-d012-41a8-b123-8e6f5963bffc",
   "metadata": {},
   "outputs": [],
   "source": [
    "# from sklearn.compose import ColumnTransformer\n",
    "# from sklearn.preprocessing import OneHotEncoder\n",
    "# from sklearn.preprocessing import OrdinalEncoder\n",
    "# from sklearn.model_selection import train_test_split\n",
    "# from sklearn.tree import DecisionTreeRegressor\n",
    "# from sklearn.metrics import mean_squared_error\n",
    "# from sklearn.metrics import accuracy_score\n",
    "# import math\n",
    "# import sklearn.metrics \n",
    "# from sklearn.metrics import mean_squared_error, mean_absolute_error, r2_score\n",
    "# import mlflow\n",
    "# from sklearn.linear_model import LinearRegression"
   ]
  },
  {
   "cell_type": "code",
   "execution_count": null,
   "id": "f0a37939-c1c6-4520-9369-f8d9617258eb",
   "metadata": {},
   "outputs": [],
   "source": [
    "# def train_and_evaluate(data,mlflow_experiment_id,test_size,random_state):\n",
    "\n",
    "#     x = df.drop(columns='Item_Outlet_Sales')\n",
    "#     y = df['Item_Outlet_Sales']\n",
    "    \n",
    "#     x_train,x_test,y_train,y_test = train_test_split(x,y,test_size=test_size,random_state=random_state)\n",
    "    \n",
    "#     transformer = ColumnTransformer(transformers=[\n",
    "#     ('tnf1',OneHotEncoder(handle_unknown='ignore',sparse=False,drop=\"first\"),['Item_Identifier','Item_Fat_Content','Item_Type','Outlet_Identifier']),\n",
    "#     ('tnf2',OrdinalEncoder(categories=[['Small','Medium','High'],['Tier 1','Tier 2','Tier 3'],['Grocery Store','Supermarket Type1','Supermarket Type2','Supermarket Type3']]),\n",
    "#      ['Outlet_Size','Outlet_Location_Type','Outlet_Type'])\n",
    "#     ] ,remainder=\"passthrough\")\n",
    "    \n",
    "    \n",
    "#     train_trfd = transformer.fit_transform(x_train)\n",
    "#     test_trfd = transformer.transform(x_test)\n",
    "    \n",
    "#     with mlflow.start_run(experiment_id = mlflow_experiment_id):\n",
    "#         lr = LinearRegression()\n",
    "#         lr.fit(train_trfd,y_train)\n",
    "#         y_pred = lr.predict(test_trfd)\n",
    "        \n",
    "#         rmse = np.sqrt(mean_squared_error(y_test, y_pred))\n",
    "        \n",
    "#         # print(\"mse:\",mse)\n",
    "#         print(\"rmse:\",rmse)\n",
    "\n",
    "#         print(\"test_size:\",test_size)\n",
    "#         print(\"random_state:\",random_state)\n",
    "        \n",
    "        \n",
    "       \n",
    "#         mlflow.log_metric(\"rmse\", rmse)\n",
    "        \n",
    "\n",
    "#         mlflow.sklearn.log_model(lr, \"model\")\n",
    "        \n",
    "        \n",
    "        \n",
    "    \n",
    "    \n",
    "    \n",
    "    "
   ]
  },
  {
   "cell_type": "code",
   "execution_count": null,
   "id": "18b84276-4432-4a16-a583-21d718eed5dc",
   "metadata": {},
   "outputs": [],
   "source": [
    "# train_and_evaluate(df, mlflow_experiment_id=0,test_size=0.30,random_state=42)\n",
    "# train_and_evaluate(df, mlflow_experiment_id=0,test_size=0.50,random_state=32)\n",
    "# train_and_evaluate(df, mlflow_experiment_id=0,test_size=0.50,random_state=32)"
   ]
  },
  {
   "cell_type": "code",
   "execution_count": null,
   "id": "3b5fdb10",
   "metadata": {},
   "outputs": [],
   "source": [
    "!pip install ipywidgets"
   ]
  },
  {
   "cell_type": "code",
   "execution_count": null,
   "id": "7a44da78-416f-441e-96f8-8a6eca701b87",
   "metadata": {},
   "outputs": [],
   "source": [
    "from pandas_profiling import ProfileReport"
   ]
  },
  {
   "cell_type": "code",
   "execution_count": null,
   "id": "6f5b51e2",
   "metadata": {},
   "outputs": [],
   "source": [
    "ProfileReport(df)"
   ]
  },
  {
   "cell_type": "code",
   "execution_count": null,
   "id": "b28e8bd0-14f5-4e50-a313-5305e43c42a7",
   "metadata": {},
   "outputs": [],
   "source": [
    "from sklearn.model_selection import train_test_split"
   ]
  },
  {
   "cell_type": "code",
   "execution_count": null,
   "id": "4e4bff69-e169-40a9-a6ed-28a4ba299c9f",
   "metadata": {},
   "outputs": [],
   "source": [
    "x = df.drop(columns='Item_Outlet_Sales')\n",
    "y = df['Item_Outlet_Sales']"
   ]
  },
  {
   "cell_type": "code",
   "execution_count": null,
   "id": "112993e8-c4a4-4ce5-ac3b-1b45041d3016",
   "metadata": {},
   "outputs": [],
   "source": [
    "x.columns"
   ]
  },
  {
   "cell_type": "code",
   "execution_count": null,
   "id": "3846b927-3ccc-4549-9b6b-f84a843f80ed",
   "metadata": {},
   "outputs": [],
   "source": [
    "y.head()"
   ]
  },
  {
   "cell_type": "code",
   "execution_count": null,
   "id": "fd101fbe-62c2-434a-8588-8c8cb3016ebc",
   "metadata": {},
   "outputs": [],
   "source": [
    "x_train,x_test,y_train,y_test = train_test_split(x,y,test_size=0.30)"
   ]
  },
  {
   "cell_type": "code",
   "execution_count": null,
   "id": "b9b6c3fd-c2c0-4cbb-9d8e-a57b4b52dffe",
   "metadata": {},
   "outputs": [],
   "source": [
    "x_train.shape"
   ]
  },
  {
   "cell_type": "code",
   "execution_count": null,
   "id": "a86fed42-3022-4715-8cfe-c02ba33dadc1",
   "metadata": {},
   "outputs": [],
   "source": [
    "x_test.shape"
   ]
  },
  {
   "cell_type": "code",
   "execution_count": null,
   "id": "3b184512-4097-4d8e-a56e-839892897f4b",
   "metadata": {},
   "outputs": [],
   "source": [
    "y_train.shape"
   ]
  },
  {
   "cell_type": "code",
   "execution_count": null,
   "id": "fa21a617-920e-411a-9ab3-07970c9420ca",
   "metadata": {},
   "outputs": [],
   "source": [
    "y_test.shape"
   ]
  },
  {
   "cell_type": "markdown",
   "id": "52c670b3-fdc2-49e5-8d19-949cd4e13392",
   "metadata": {},
   "source": [
    "### Feature-Encoding"
   ]
  },
  {
   "cell_type": "code",
   "execution_count": null,
   "id": "d9c51e42-651d-451c-a852-d657bd8210f3",
   "metadata": {},
   "outputs": [],
   "source": [
    "# columns to to encoded\n",
    "    # -Item_Identifier\n",
    "    # -Item_Fat_Content\n",
    "    # -Item_Type\n",
    "    # -Outlet_Identifier\n",
    "    # -Outlet_Size\n",
    "    # -Outlet_Location_Type"
   ]
  },
  {
   "cell_type": "code",
   "execution_count": null,
   "id": "8fe849d8-72ff-4150-bc5b-cdb577a2f988",
   "metadata": {},
   "outputs": [],
   "source": [
    "# Grocery Store\t339.828500\n",
    "# Supermarket Type1\t2316.181148\n",
    "# Supermarket Type2\t1995.498739\n",
    "# Supermarket Type3\t3694.038558"
   ]
  },
  {
   "cell_type": "code",
   "execution_count": null,
   "id": "91a130fb-432c-4ef5-ba75-8b034250a18f",
   "metadata": {},
   "outputs": [],
   "source": [
    "from sklearn.compose import ColumnTransformer\n",
    "from sklearn.preprocessing import OneHotEncoder\n",
    "from sklearn.preprocessing import OrdinalEncoder"
   ]
  },
  {
   "cell_type": "code",
   "execution_count": null,
   "id": "8a4ff19e-4459-4b0a-a951-ae974e663a42",
   "metadata": {},
   "outputs": [],
   "source": [
    "transformer = ColumnTransformer(transformers=[\n",
    "    ('tnf1',OneHotEncoder(handle_unknown='ignore',sparse=False,drop=\"first\"),['Item_Identifier','Item_Fat_Content','Item_Type','Outlet_Identifier']),\n",
    "    ('tnf2',OrdinalEncoder(categories=[['Small','Medium','High'],['Tier 1','Tier 2','Tier 3'],['Grocery Store','Supermarket Type1','Supermarket Type2','Supermarket Type3']]),\n",
    "     ['Outlet_Size','Outlet_Location_Type','Outlet_Type'])\n",
    "] ,remainder=\"passthrough\")"
   ]
  },
  {
   "cell_type": "code",
   "execution_count": null,
   "id": "6d50644d-f538-49d5-b79b-924209c5d5a2",
   "metadata": {},
   "outputs": [],
   "source": [
    "import pickle\n",
    "pickle.dump(transformer,open(\"tranformer_model.pkl\",\"wb\"))"
   ]
  },
  {
   "cell_type": "code",
   "execution_count": null,
   "id": "14603d95-76d6-4eb1-a364-1c6bf408cc2c",
   "metadata": {},
   "outputs": [],
   "source": [
    "tr = pickle.load(open(\"tranformer_model.pkl\",\"rb\"))"
   ]
  },
  {
   "cell_type": "code",
   "execution_count": null,
   "id": "9035098f-76f7-4a07-9132-376bbd314dc0",
   "metadata": {},
   "outputs": [],
   "source": [
    "tr.fit_transform(x_train)"
   ]
  },
  {
   "cell_type": "code",
   "execution_count": null,
   "id": "6f2b7f37-ea27-4310-a355-e02e2dca6739",
   "metadata": {},
   "outputs": [],
   "source": [
    "# transformer.fit(x_train)"
   ]
  },
  {
   "cell_type": "code",
   "execution_count": null,
   "id": "9c19485a-2e41-413d-b353-7daf940afed4",
   "metadata": {},
   "outputs": [],
   "source": [
    "transformer.fit_transform(x_train).shape"
   ]
  },
  {
   "cell_type": "code",
   "execution_count": null,
   "id": "0967c5e2-e0f8-47c7-b47a-ab06ad5c2bea",
   "metadata": {},
   "outputs": [],
   "source": [
    "train_trfd = transformer.fit_transform(x_train)"
   ]
  },
  {
   "cell_type": "code",
   "execution_count": null,
   "id": "59570f87-a8b1-47a1-ae2c-174e1d9ca8bc",
   "metadata": {},
   "outputs": [],
   "source": [
    "# pd.DataFrame(train_trfd,columns=x_train.columns)"
   ]
  },
  {
   "cell_type": "code",
   "execution_count": null,
   "id": "a873b897-322b-437c-88a3-331a98c81194",
   "metadata": {},
   "outputs": [],
   "source": [
    "transformer.transform(x_test).shape"
   ]
  },
  {
   "cell_type": "code",
   "execution_count": null,
   "id": "39593d24-efc1-4b00-90b2-dc5c0f0ca8b6",
   "metadata": {},
   "outputs": [],
   "source": [
    "test_trfd = transformer.transform(x_test)"
   ]
  },
  {
   "cell_type": "code",
   "execution_count": null,
   "id": "7732be5c-d968-41f8-a478-3784b7c9ea3b",
   "metadata": {},
   "outputs": [],
   "source": [
    "test_trfd.shape"
   ]
  },
  {
   "cell_type": "code",
   "execution_count": null,
   "id": "cb20916e-66eb-43cc-aa04-d974b3cd7797",
   "metadata": {},
   "outputs": [],
   "source": [
    "x_train.head(2)"
   ]
  },
  {
   "cell_type": "code",
   "execution_count": null,
   "id": "01304259-5a6f-401f-b81a-f2c961fc04a1",
   "metadata": {},
   "outputs": [],
   "source": [
    "len(transformer.transform(x_test)[0])"
   ]
  },
  {
   "cell_type": "code",
   "execution_count": null,
   "id": "ae58a295-4e6d-41a7-ac95-e269ac12aaed",
   "metadata": {},
   "outputs": [],
   "source": [
    "from sklearn.metrics import accuracy_score,mean_squared_error,mean_absolute_error"
   ]
  },
  {
   "cell_type": "code",
   "execution_count": null,
   "id": "246af36a-3f47-4738-b18b-11dc70d72b13",
   "metadata": {},
   "outputs": [],
   "source": [
    "from sklearn.linear_model import LinearRegression, Ridge, Lasso\n",
    "lr1 = LinearRegression()"
   ]
  },
  {
   "cell_type": "code",
   "execution_count": null,
   "id": "8a5f9d63-01fc-40ed-967b-6e539b0c20fc",
   "metadata": {},
   "outputs": [],
   "source": [
    "lr1.fit(train_trfd,y_train)"
   ]
  },
  {
   "cell_type": "code",
   "execution_count": null,
   "id": "fd705b45-ccdb-4c1c-b9b2-76d7daa2e665",
   "metadata": {},
   "outputs": [],
   "source": [
    "lr1.score(train_trfd,y_train)"
   ]
  },
  {
   "cell_type": "code",
   "execution_count": null,
   "id": "a87f6e94-427a-492c-9647-6df56b31638c",
   "metadata": {},
   "outputs": [],
   "source": []
  },
  {
   "cell_type": "code",
   "execution_count": null,
   "id": "289e9b0b-a202-4c94-ad03-144538b0d926",
   "metadata": {},
   "outputs": [],
   "source": [
    "lr1.score(test_trfd,y_test)"
   ]
  },
  {
   "cell_type": "code",
   "execution_count": null,
   "id": "a5dc2147-c21e-4d87-9441-3a40f3d4a9e3",
   "metadata": {},
   "outputs": [],
   "source": [
    "# y_pred = lr1.predict(test_trfd)"
   ]
  },
  {
   "cell_type": "code",
   "execution_count": null,
   "id": "54dafdf0-0354-4608-9ca8-557818c734df",
   "metadata": {},
   "outputs": [],
   "source": [
    "from sklearn.metrics import mean_squared_error,mean_absolute_error"
   ]
  },
  {
   "cell_type": "code",
   "execution_count": null,
   "id": "09d26685-91c5-4577-9144-3f7ff30f0214",
   "metadata": {},
   "outputs": [],
   "source": [
    "import math\n",
    "import sklearn.metrics  "
   ]
  },
  {
   "cell_type": "code",
   "execution_count": null,
   "id": "c20531bb-3bb5-4530-85a8-25271fe4277f",
   "metadata": {},
   "outputs": [],
   "source": [
    "mse = sklearn.metrics.mean_squared_error(y_test, y_pred)\n",
    "rmse = math.sqrt(mse)  \n",
    "  \n",
    "print(\"The difference between actual and predicted values\", rmse)  \n"
   ]
  },
  {
   "cell_type": "code",
   "execution_count": null,
   "id": "a0e7f84d-83b5-432d-b25b-387bb5d5fa1f",
   "metadata": {},
   "outputs": [],
   "source": [
    "1305.0481809488608*1305.0481809488608"
   ]
  },
  {
   "cell_type": "code",
   "execution_count": null,
   "id": "dfcc09df-9e51-40fa-be24-dfe5828eaddb",
   "metadata": {},
   "outputs": [],
   "source": []
  },
  {
   "cell_type": "code",
   "execution_count": null,
   "id": "99bdaa17-41d3-4e1d-8ace-f744c320e988",
   "metadata": {},
   "outputs": [],
   "source": []
  },
  {
   "cell_type": "code",
   "execution_count": null,
   "id": "20a15242-82d9-42b8-99b8-7055920ce7ef",
   "metadata": {},
   "outputs": [],
   "source": [
    "mean_squared_error(y_test)"
   ]
  },
  {
   "cell_type": "code",
   "execution_count": null,
   "id": "1d2ba9df-bf23-49af-8eb5-542a2d40c3f1",
   "metadata": {},
   "outputs": [],
   "source": [
    "from sklearn.tree import DecisionTreeRegressor"
   ]
  },
  {
   "cell_type": "code",
   "execution_count": null,
   "id": "ad337ba7-c78d-48fe-a3c5-036f64705843",
   "metadata": {},
   "outputs": [],
   "source": [
    "dtree= DecisionTreeRegressor()"
   ]
  },
  {
   "cell_type": "code",
   "execution_count": null,
   "id": "ad8242a1-feed-478c-aad9-65efd8bd208d",
   "metadata": {},
   "outputs": [],
   "source": [
    "dtree.fit(train_trfd,y_train)"
   ]
  },
  {
   "cell_type": "code",
   "execution_count": null,
   "id": "08bac346-41c2-4ffa-a8ef-3555b54f8b2f",
   "metadata": {},
   "outputs": [],
   "source": [
    "from sklearn.model_selection import GridSearchCV"
   ]
  },
  {
   "cell_type": "code",
   "execution_count": null,
   "id": "dcd8b7ae-038d-43b6-8cdc-1a9daa199ba3",
   "metadata": {},
   "outputs": [],
   "source": []
  },
  {
   "cell_type": "code",
   "execution_count": null,
   "id": "fb76859d-5798-4176-81fe-849229c47156",
   "metadata": {},
   "outputs": [],
   "source": []
  },
  {
   "cell_type": "code",
   "execution_count": null,
   "id": "db3c6554-caa2-4d07-b9b1-a70fa5ac78ab",
   "metadata": {},
   "outputs": [],
   "source": [
    "dtree.score(train_trfd,y_train)\n"
   ]
  },
  {
   "cell_type": "code",
   "execution_count": null,
   "id": "2a7d0396-57de-47ba-91ff-99ebf619143f",
   "metadata": {},
   "outputs": [],
   "source": [
    "dtree.score(test_trfd,y_test)"
   ]
  },
  {
   "cell_type": "code",
   "execution_count": null,
   "id": "08e164dc-4f73-40e3-a196-2ba29b4507a3",
   "metadata": {},
   "outputs": [],
   "source": [
    "path = dtree.cost_complexity_pruning_path(train_trfd,y_train)\n",
    "ccp_alpha = path.ccp_alphas"
   ]
  },
  {
   "cell_type": "code",
   "execution_count": null,
   "id": "833d913b-ca89-464c-af73-2245bd414b70",
   "metadata": {},
   "outputs": [],
   "source": [
    "print(np.array(ccp_alpha))"
   ]
  },
  {
   "cell_type": "code",
   "execution_count": null,
   "id": "4c5ff4a6-4cdd-4477-959b-80deed6a4132",
   "metadata": {},
   "outputs": [],
   "source": [
    "dt_model2=[]\n",
    "for ccp in ccp_alpha:\n",
    "    dt_m=DecisionTreeRegressor(ccp_alpha = ccp)\n",
    "    dt_m.fit(train_trfd,y_train)\n",
    "    dt_model2.append(dt_m)"
   ]
  },
  {
   "cell_type": "code",
   "execution_count": null,
   "id": "7d64ee4a-4a91-48ae-b0d7-004cf9f49630",
   "metadata": {},
   "outputs": [],
   "source": []
  },
  {
   "cell_type": "code",
   "execution_count": null,
   "id": "11f4941c-8c65-41de-b685-4bc4fed88173",
   "metadata": {},
   "outputs": [],
   "source": []
  },
  {
   "cell_type": "markdown",
   "id": "ec8abaae-0c3c-4aa6-a5a3-51fe9d5f9f69",
   "metadata": {},
   "source": [
    "### check how well model in performing\n",
    "### How your best is really best in comparison with worst\n",
    "->if r2_score is 0, then it means SSr/SSm is 1 and SSr/SSm will be 1. if SSr is making mistakes as SSm which means there is no use of SSr.\n",
    "-> or regression line is making the same mistakes as mean line .\n",
    "-> if r2_score is  1 means regression line is not making mistakes.which mean a line which is passing through all the points.\n",
    "-> The more you move towards the perfection , the more your r2_score move towards 1 and vice versa.\n",
    "-> if r2_score is negative means regression line is making more  mistakes than the meanor average line.\n",
    "\n",
    "\n"
   ]
  },
  {
   "cell_type": "code",
   "execution_count": null,
   "id": "b39d9c3d-3475-4e4c-be2f-a8b9c54d1547",
   "metadata": {},
   "outputs": [],
   "source": [
    "r2_score(y_test,yPredd_tree)"
   ]
  },
  {
   "cell_type": "code",
   "execution_count": null,
   "id": "b81ffc9d-629e-45b0-a582-d3fec6dfcf0e",
   "metadata": {},
   "outputs": [],
   "source": []
  },
  {
   "cell_type": "code",
   "execution_count": null,
   "id": "5ec32e7a-5151-4758-b5e5-9ff4bceb912c",
   "metadata": {},
   "outputs": [],
   "source": []
  },
  {
   "cell_type": "code",
   "execution_count": null,
   "id": "5f77f5db-1b8e-4574-9a3d-4a0c737263f7",
   "metadata": {},
   "outputs": [],
   "source": []
  },
  {
   "cell_type": "code",
   "execution_count": null,
   "id": "249a978d-b384-45ea-8801-59bdfb6d6a19",
   "metadata": {},
   "outputs": [],
   "source": []
  },
  {
   "cell_type": "code",
   "execution_count": null,
   "id": "c97881c2-ae77-4a21-ada1-c8a231b3609a",
   "metadata": {},
   "outputs": [],
   "source": [
    "dtree.__dict__"
   ]
  },
  {
   "cell_type": "code",
   "execution_count": null,
   "id": "50761202-0635-44c7-994b-bf499a083cc0",
   "metadata": {},
   "outputs": [],
   "source": []
  }
 ],
 "metadata": {
  "kernelspec": {
   "display_name": "Python 3 (ipykernel)",
   "language": "python",
   "name": "python3"
  },
  "language_info": {
   "codemirror_mode": {
    "name": "ipython",
    "version": 3
   },
   "file_extension": ".py",
   "mimetype": "text/x-python",
   "name": "python",
   "nbconvert_exporter": "python",
   "pygments_lexer": "ipython3",
   "version": "3.8.13"
  }
 },
 "nbformat": 4,
 "nbformat_minor": 5
}
